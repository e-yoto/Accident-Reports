{
 "cells": [
  {
   "cell_type": "code",
   "execution_count": 553,
   "id": "5e622a92-48e8-488b-8bf8-036b80a0a9d7",
   "metadata": {},
   "outputs": [],
   "source": [
    "import pandas as pd\n",
    "import numpy as np"
   ]
  },
  {
   "cell_type": "markdown",
   "id": "01e123f4-1866-4a79-b67e-2b7195c9de9b",
   "metadata": {},
   "source": [
    "# Reading files and merging\n",
    "\n",
    "##### Columns description\n",
    "- CD_GENRE_ACCDN: Genre d’accident: Sert à indiquer la nature de l’accident et le premier fait physique (impact).\n",
    "- CD_ETAT_SURFC: État de la surface de roulement lors de l’accident.\n",
    "- CD_ECLRM: Éclairement: Degré de clarté des lieux au moment de l’accident. L’éclairement fait référence à deux périodes d’une journée, soit le jour et la nuit.\n",
    "- CD_ENVRN_ACCDN: Environnement: Activité dominante du secteur où l’accident s’est produit.\n",
    "- CD_CATEG_ROUTE: Catégorie de route sur laquelle le premier fait physique (impact) s’est produit\n",
    "- CD_ASPCT_ROUTE: Aspect de la route sur le lieu de l’accident au moment de l’impact et dans son entourage immédiat en fonction du champ de vision d’un conducteur assis au volant de son véhicule.\n",
    "- CD_LOCLN_ACCDN: Localisation longitudinale (le long de la route) du premier fait physique (impact).\n",
    "- CD_CONFG_ROUTE: Configuration de la route: Caractéristiques des voies. Si l’accident a lieu à une intersection, la rue la plus importante de cette intersection est décrite.\n",
    "- CD_COND_METEO: Conditions météorologiques: Conditions atmosphériques présentes lors de l’accident.\n",
    "- IND_AUTO_CAMION_LEGER: Indicateur d'au moins une automobile ou un camion léger impliqué dans l'accident.\n",
    "- IND_VEH_LOURD: Indicateur d'au moins un véhicule lourd impliqué dans l'accident.\n",
    "- IND_MOTO_CYCLO: Indicateur d'au moins une motocyclette ou un cyclomoteur impliqué dans l'accident.\n",
    "- IND_VELO: Indicateur d'au moins une bicyclette impliquée dans l'accident.\n",
    "- IND_PIETON: Indicateur d'au moins une victime piéton (blessée ou décédée) dans l'accident."
   ]
  },
  {
   "cell_type": "code",
   "execution_count": 554,
   "id": "e3c69239-6d30-4783-b828-b19fc290168f",
   "metadata": {},
   "outputs": [],
   "source": [
    "#Read all files into their own dataframes\n",
    "report_2011 = pd.read_csv('./Data/Rapport_Accident_2011.csv')\n",
    "report_2012 = pd.read_csv('./Data/Rapport_Accident_2012.csv')\n",
    "report_2013 = pd.read_csv('./Data/Rapport_Accident_2013.csv')\n",
    "report_2014 = pd.read_csv('./Data/Rapport_Accident_2014.csv')\n",
    "report_2015 = pd.read_csv('./Data/Rapport_Accident_2015.csv')\n",
    "report_2016 = pd.read_csv('./Data/Rapport_Accident_2016.csv')\n",
    "report_2017 = pd.read_csv('./Data/Rapport_Accident_2017.csv')\n",
    "report_2018 = pd.read_csv('./Data/Rapport_Accident_2018.csv')\n",
    "report_2019 = pd.read_csv('./Data/Rapport_Accident_2019.csv')\n",
    "report_2020 = pd.read_csv('./Data/Rapport_Accident_2020.csv')\n",
    "report_2021 = pd.read_csv('./Data/Rapport_Accident_2021.csv')\n",
    "report_2022 = pd.read_csv('./Data/Rapport_Accident_2022.csv')"
   ]
  },
  {
   "cell_type": "code",
   "execution_count": 555,
   "id": "0bb39f68-5f32-4efa-a153-8f0542957357",
   "metadata": {},
   "outputs": [
    {
     "name": "stdout",
     "output_type": "stream",
     "text": [
      "Index(['AN', 'NO_SEQ_COLL', 'MS_ACCDN', 'HR_ACCDN', 'JR_SEMN_ACCDN', 'GRAVITE',\n",
      "       'NB_VICTIMES_TOTAL', 'NB_VEH_IMPLIQUES_ACCDN', '\\t\\t\\t\"REG_ADM\"',\n",
      "       'VITESSE_AUTOR', 'CD_GENRE_ACCDN', 'CD_ETAT_SURFC', 'CD_ECLRM',\n",
      "       'CD_ENVRN_ACCDN', 'CD_CATEG_ROUTE', 'CD_ASPCT_ROUTE',\n",
      "       '\\t\\t\\t\"CD_LOCLN_ACCDN\"', 'CD_CONFG_ROUTE', 'CD_ZON_TRAVX_ROUTR',\n",
      "       'CD_COND_METEO', 'IND_AUTO_CAMION_LEGER', 'IND_VEH_LOURD',\n",
      "       'IND_MOTO_CYCLO', '\\t\\t\\t\"IND_VELO\"', 'IND_PIETON'],\n",
      "      dtype='object')\n"
     ]
    }
   ],
   "source": [
    "print(report_2015.columns)"
   ]
  },
  {
   "cell_type": "code",
   "execution_count": 556,
   "id": "595c0bb1-3379-4cc4-a3f0-ef3448d12aed",
   "metadata": {},
   "outputs": [],
   "source": [
    "#Combine all reports from different years into a single df\n",
    "all_years_dfs = [report_2011,report_2012,report_2013,report_2014,report_2015,report_2016,report_2017,report_2018,report_2019,report_2020,report_2021,report_2022]\n",
    "report_all_df = pd.concat(all_years_dfs, axis=0, ignore_index=0)"
   ]
  },
  {
   "cell_type": "code",
   "execution_count": 557,
   "id": "113d1f12-9820-417d-aa08-65dfe7937514",
   "metadata": {
    "scrolled": true
   },
   "outputs": [
    {
     "data": {
      "text/html": [
       "<div>\n",
       "<style scoped>\n",
       "    .dataframe tbody tr th:only-of-type {\n",
       "        vertical-align: middle;\n",
       "    }\n",
       "\n",
       "    .dataframe tbody tr th {\n",
       "        vertical-align: top;\n",
       "    }\n",
       "\n",
       "    .dataframe thead th {\n",
       "        text-align: right;\n",
       "    }\n",
       "</style>\n",
       "<table border=\"1\" class=\"dataframe\">\n",
       "  <thead>\n",
       "    <tr style=\"text-align: right;\">\n",
       "      <th></th>\n",
       "      <th>AN</th>\n",
       "      <th>NO_SEQ_COLL</th>\n",
       "      <th>MS_ACCDN</th>\n",
       "      <th>HR_ACCDN</th>\n",
       "      <th>JR_SEMN_ACCDN</th>\n",
       "      <th>GRAVITE</th>\n",
       "      <th>NB_VICTIMES_TOTAL</th>\n",
       "      <th>NB_VEH_IMPLIQUES_ACCDN</th>\n",
       "      <th>\\t\\t\\t\"REG_ADM\"</th>\n",
       "      <th>VITESSE_AUTOR</th>\n",
       "      <th>...</th>\n",
       "      <th>CD_ASPCT_ROUTE</th>\n",
       "      <th>\\t\\t\\t\"CD_LOCLN_ACCDN\"</th>\n",
       "      <th>CD_CONFG_ROUTE</th>\n",
       "      <th>CD_ZON_TRAVX_ROUTR</th>\n",
       "      <th>CD_COND_METEO</th>\n",
       "      <th>IND_AUTO_CAMION_LEGER</th>\n",
       "      <th>IND_VEH_LOURD</th>\n",
       "      <th>IND_MOTO_CYCLO</th>\n",
       "      <th>\\t\\t\\t\"IND_VELO\"</th>\n",
       "      <th>IND_PIETON</th>\n",
       "    </tr>\n",
       "  </thead>\n",
       "  <tbody>\n",
       "    <tr>\n",
       "      <th>0</th>\n",
       "      <td>2011</td>\n",
       "      <td>2011 _ 1</td>\n",
       "      <td>2</td>\n",
       "      <td>08:00:00-11:59:00</td>\n",
       "      <td>SEM</td>\n",
       "      <td>Dommages matériels inférieurs au seuil de rapp...</td>\n",
       "      <td>0</td>\n",
       "      <td>1.0</td>\n",
       "      <td>Montréal (06)</td>\n",
       "      <td>NaN</td>\n",
       "      <td>...</td>\n",
       "      <td>Courbe</td>\n",
       "      <td>99.0</td>\n",
       "      <td>23.0</td>\n",
       "      <td>NaN</td>\n",
       "      <td>11.0</td>\n",
       "      <td>N</td>\n",
       "      <td>O</td>\n",
       "      <td>N</td>\n",
       "      <td>N</td>\n",
       "      <td>N</td>\n",
       "    </tr>\n",
       "    <tr>\n",
       "      <th>1</th>\n",
       "      <td>2011</td>\n",
       "      <td>2011 _ 2</td>\n",
       "      <td>4</td>\n",
       "      <td>08:00:00-11:59:00</td>\n",
       "      <td>SEM</td>\n",
       "      <td>Dommages matériels inférieurs au seuil de rapp...</td>\n",
       "      <td>0</td>\n",
       "      <td>1.0</td>\n",
       "      <td>Montréal (06)</td>\n",
       "      <td>50</td>\n",
       "      <td>...</td>\n",
       "      <td>Droit</td>\n",
       "      <td>99.0</td>\n",
       "      <td>23.0</td>\n",
       "      <td>NaN</td>\n",
       "      <td>12.0</td>\n",
       "      <td>O</td>\n",
       "      <td>N</td>\n",
       "      <td>N</td>\n",
       "      <td>N</td>\n",
       "      <td>N</td>\n",
       "    </tr>\n",
       "    <tr>\n",
       "      <th>2</th>\n",
       "      <td>2011</td>\n",
       "      <td>2011 _ 3</td>\n",
       "      <td>6</td>\n",
       "      <td>08:00:00-11:59:00</td>\n",
       "      <td>SEM</td>\n",
       "      <td>Dommages matériels inférieurs au seuil de rapp...</td>\n",
       "      <td>0</td>\n",
       "      <td>2.0</td>\n",
       "      <td>Montréal (06)</td>\n",
       "      <td>NaN</td>\n",
       "      <td>...</td>\n",
       "      <td>Droit</td>\n",
       "      <td>99.0</td>\n",
       "      <td>9.0</td>\n",
       "      <td>NaN</td>\n",
       "      <td>11.0</td>\n",
       "      <td>N</td>\n",
       "      <td>O</td>\n",
       "      <td>N</td>\n",
       "      <td>N</td>\n",
       "      <td>N</td>\n",
       "    </tr>\n",
       "    <tr>\n",
       "      <th>3</th>\n",
       "      <td>2011</td>\n",
       "      <td>2011 _ 4</td>\n",
       "      <td>6</td>\n",
       "      <td>16:00:00-19:59:00</td>\n",
       "      <td>SEM</td>\n",
       "      <td>Dommages matériels seulement</td>\n",
       "      <td>0</td>\n",
       "      <td>2.0</td>\n",
       "      <td>Montréal (06)</td>\n",
       "      <td>&lt;50</td>\n",
       "      <td>...</td>\n",
       "      <td>Droit</td>\n",
       "      <td>99.0</td>\n",
       "      <td>23.0</td>\n",
       "      <td>NaN</td>\n",
       "      <td>12.0</td>\n",
       "      <td>N</td>\n",
       "      <td>O</td>\n",
       "      <td>N</td>\n",
       "      <td>N</td>\n",
       "      <td>N</td>\n",
       "    </tr>\n",
       "    <tr>\n",
       "      <th>4</th>\n",
       "      <td>2011</td>\n",
       "      <td>2011 _ 5</td>\n",
       "      <td>7</td>\n",
       "      <td>20:00:00-23:59:00</td>\n",
       "      <td>SEM</td>\n",
       "      <td>Dommages matériels seulement</td>\n",
       "      <td>0</td>\n",
       "      <td>1.0</td>\n",
       "      <td>Montréal (06)</td>\n",
       "      <td>50</td>\n",
       "      <td>...</td>\n",
       "      <td>Droit</td>\n",
       "      <td>34.0</td>\n",
       "      <td>23.0</td>\n",
       "      <td>NaN</td>\n",
       "      <td>12.0</td>\n",
       "      <td>N</td>\n",
       "      <td>O</td>\n",
       "      <td>N</td>\n",
       "      <td>N</td>\n",
       "      <td>N</td>\n",
       "    </tr>\n",
       "  </tbody>\n",
       "</table>\n",
       "<p>5 rows × 25 columns</p>\n",
       "</div>"
      ],
      "text/plain": [
       "     AN NO_SEQ_COLL  MS_ACCDN           HR_ACCDN JR_SEMN_ACCDN  \\\n",
       "0  2011    2011 _ 1         2  08:00:00-11:59:00           SEM   \n",
       "1  2011    2011 _ 2         4  08:00:00-11:59:00           SEM   \n",
       "2  2011    2011 _ 3         6  08:00:00-11:59:00           SEM   \n",
       "3  2011    2011 _ 4         6  16:00:00-19:59:00           SEM   \n",
       "4  2011    2011 _ 5         7  20:00:00-23:59:00           SEM   \n",
       "\n",
       "                                             GRAVITE  NB_VICTIMES_TOTAL  \\\n",
       "0  Dommages matériels inférieurs au seuil de rapp...                  0   \n",
       "1  Dommages matériels inférieurs au seuil de rapp...                  0   \n",
       "2  Dommages matériels inférieurs au seuil de rapp...                  0   \n",
       "3                       Dommages matériels seulement                  0   \n",
       "4                       Dommages matériels seulement                  0   \n",
       "\n",
       "   NB_VEH_IMPLIQUES_ACCDN \\t\\t\\t\"REG_ADM\" VITESSE_AUTOR  ... CD_ASPCT_ROUTE  \\\n",
       "0                     1.0   Montréal (06)           NaN  ...         Courbe   \n",
       "1                     1.0   Montréal (06)            50  ...          Droit   \n",
       "2                     2.0   Montréal (06)           NaN  ...          Droit   \n",
       "3                     2.0   Montréal (06)           <50  ...          Droit   \n",
       "4                     1.0   Montréal (06)            50  ...          Droit   \n",
       "\n",
       "   \\t\\t\\t\"CD_LOCLN_ACCDN\"  CD_CONFG_ROUTE  CD_ZON_TRAVX_ROUTR  CD_COND_METEO  \\\n",
       "0                    99.0            23.0                 NaN           11.0   \n",
       "1                    99.0            23.0                 NaN           12.0   \n",
       "2                    99.0             9.0                 NaN           11.0   \n",
       "3                    99.0            23.0                 NaN           12.0   \n",
       "4                    34.0            23.0                 NaN           12.0   \n",
       "\n",
       "  IND_AUTO_CAMION_LEGER  IND_VEH_LOURD  IND_MOTO_CYCLO \\t\\t\\t\"IND_VELO\"  \\\n",
       "0                     N              O               N                N   \n",
       "1                     O              N               N                N   \n",
       "2                     N              O               N                N   \n",
       "3                     N              O               N                N   \n",
       "4                     N              O               N                N   \n",
       "\n",
       "   IND_PIETON  \n",
       "0           N  \n",
       "1           N  \n",
       "2           N  \n",
       "3           N  \n",
       "4           N  \n",
       "\n",
       "[5 rows x 25 columns]"
      ]
     },
     "execution_count": 557,
     "metadata": {},
     "output_type": "execute_result"
    }
   ],
   "source": [
    "report_all_df.head()"
   ]
  },
  {
   "cell_type": "code",
   "execution_count": 558,
   "id": "075be62a-e177-48e1-8d12-29aa43cd6959",
   "metadata": {},
   "outputs": [
    {
     "data": {
      "text/plain": [
       "Index(['AN', 'NO_SEQ_COLL', 'MS_ACCDN', 'HR_ACCDN', 'JR_SEMN_ACCDN', 'GRAVITE',\n",
       "       'NB_VICTIMES_TOTAL', 'NB_VEH_IMPLIQUES_ACCDN', '\\t\\t\\t\"REG_ADM\"',\n",
       "       'VITESSE_AUTOR', 'CD_GENRE_ACCDN', 'CD_ETAT_SURFC', 'CD_ECLRM',\n",
       "       'CD_ENVRN_ACCDN', 'CD_CATEG_ROUTE', 'CD_ASPCT_ROUTE',\n",
       "       '\\t\\t\\t\"CD_LOCLN_ACCDN\"', 'CD_CONFG_ROUTE', 'CD_ZON_TRAVX_ROUTR',\n",
       "       'CD_COND_METEO', 'IND_AUTO_CAMION_LEGER', 'IND_VEH_LOURD',\n",
       "       'IND_MOTO_CYCLO', '\\t\\t\\t\"IND_VELO\"', 'IND_PIETON'],\n",
       "      dtype='object')"
      ]
     },
     "execution_count": 558,
     "metadata": {},
     "output_type": "execute_result"
    }
   ],
   "source": [
    "report_all_df.columns"
   ]
  },
  {
   "cell_type": "code",
   "execution_count": 559,
   "id": "294764f8-9451-45af-994a-2446ccb345be",
   "metadata": {},
   "outputs": [],
   "source": [
    "#Drop unneeded column\n",
    "report_all_df = report_all_df.drop('AN', axis=1)"
   ]
  },
  {
   "cell_type": "code",
   "execution_count": 560,
   "id": "3293807a-6ab0-4b92-9752-f704e39af1e8",
   "metadata": {},
   "outputs": [],
   "source": [
    "#Rename odd columns names in the dataframe\n",
    "columns_to_rename = {\n",
    "    '\\t\\t\\t\"REG_ADM\"': 'REG_ADM',\n",
    "    '\\t\\t\\t\"CD_LOCLN_ACCDN\"': 'CD_LOCLN_ACCDN', \n",
    "    '\\t\\t\\t\"IND_VELO\"': 'IND_VELO'}\n",
    "\n",
    "report_all_df.rename(columns = columns_to_rename, inplace=True)"
   ]
  },
  {
   "cell_type": "code",
   "execution_count": 561,
   "id": "e563a719-6ed7-4ae5-96d6-d169e823c3f7",
   "metadata": {},
   "outputs": [
    {
     "data": {
      "text/plain": [
       "Index(['NO_SEQ_COLL', 'MS_ACCDN', 'HR_ACCDN', 'JR_SEMN_ACCDN', 'GRAVITE',\n",
       "       'NB_VICTIMES_TOTAL', 'NB_VEH_IMPLIQUES_ACCDN', 'REG_ADM',\n",
       "       'VITESSE_AUTOR', 'CD_GENRE_ACCDN', 'CD_ETAT_SURFC', 'CD_ECLRM',\n",
       "       'CD_ENVRN_ACCDN', 'CD_CATEG_ROUTE', 'CD_ASPCT_ROUTE', 'CD_LOCLN_ACCDN',\n",
       "       'CD_CONFG_ROUTE', 'CD_ZON_TRAVX_ROUTR', 'CD_COND_METEO',\n",
       "       'IND_AUTO_CAMION_LEGER', 'IND_VEH_LOURD', 'IND_MOTO_CYCLO', 'IND_VELO',\n",
       "       'IND_PIETON'],\n",
       "      dtype='object')"
      ]
     },
     "execution_count": 561,
     "metadata": {},
     "output_type": "execute_result"
    }
   ],
   "source": [
    "report_all_df.columns"
   ]
  },
  {
   "cell_type": "code",
   "execution_count": 562,
   "id": "029d504f-26d3-4d5b-87c1-7929d3cbbf53",
   "metadata": {},
   "outputs": [
    {
     "data": {
      "text/plain": [
       "0         08:00:00-11:59:00\n",
       "1         08:00:00-11:59:00\n",
       "2         08:00:00-11:59:00\n",
       "3         16:00:00-19:59:00\n",
       "4         20:00:00-23:59:00\n",
       "                ...        \n",
       "108181    16:00:00-19:59:00\n",
       "108182    12:00:00-15:59:00\n",
       "108183    20:00:00-23:59:00\n",
       "108184    12:00:00-15:59:00\n",
       "108185    16:00:00-19:59:00\n",
       "Name: HR_ACCDN, Length: 1717407, dtype: object"
      ]
     },
     "execution_count": 562,
     "metadata": {},
     "output_type": "execute_result"
    }
   ],
   "source": [
    "report_all_df['HR_ACCDN']"
   ]
  },
  {
   "cell_type": "markdown",
   "id": "344e1200-be36-4f08-a1bd-1233f08551e4",
   "metadata": {},
   "source": [
    "# Data cleaning and tranformation"
   ]
  },
  {
   "cell_type": "code",
   "execution_count": 563,
   "id": "f010c785-1af7-4cdb-a0a7-34c56a6d49fa",
   "metadata": {},
   "outputs": [
    {
     "name": "stdout",
     "output_type": "stream",
     "text": [
      "1685894/1717407 rows with a null value\n"
     ]
    }
   ],
   "source": [
    "#Count how many rows have a null value at any column\n",
    "total_row_num = len(report_all_df)\n",
    "null_rows = report_all_df.isnull().any(axis=1).sum()\n",
    "\n",
    "print(f'{null_rows}/{total_row_num} rows with a null value')\n",
    "\n",
    "#Observation: all rows have some null value. "
   ]
  },
  {
   "cell_type": "code",
   "execution_count": 564,
   "id": "26ee07e8-222b-41fc-844c-0888ddeddbee",
   "metadata": {},
   "outputs": [
    {
     "data": {
      "text/plain": [
       "NO_SEQ_COLL                     0\n",
       "MS_ACCDN                        0\n",
       "HR_ACCDN                    58418\n",
       "JR_SEMN_ACCDN                   1\n",
       "GRAVITE                         0\n",
       "NB_VICTIMES_TOTAL               0\n",
       "NB_VEH_IMPLIQUES_ACCDN          4\n",
       "REG_ADM                        28\n",
       "VITESSE_AUTOR              392397\n",
       "CD_GENRE_ACCDN              31130\n",
       "CD_ETAT_SURFC               45891\n",
       "CD_ECLRM                    46931\n",
       "CD_ENVRN_ACCDN              29510\n",
       "CD_CATEG_ROUTE              23832\n",
       "CD_ASPCT_ROUTE              44696\n",
       "CD_LOCLN_ACCDN             119542\n",
       "CD_CONFG_ROUTE             149301\n",
       "CD_ZON_TRAVX_ROUTR        1679858\n",
       "CD_COND_METEO               47510\n",
       "IND_AUTO_CAMION_LEGER           0\n",
       "IND_VEH_LOURD                   0\n",
       "IND_MOTO_CYCLO                  0\n",
       "IND_VELO                        0\n",
       "IND_PIETON                      0\n",
       "dtype: int64"
      ]
     },
     "execution_count": 564,
     "metadata": {},
     "output_type": "execute_result"
    }
   ],
   "source": [
    "#Check how many null values for each column\n",
    "report_all_df.isnull().sum()"
   ]
  },
  {
   "cell_type": "code",
   "execution_count": 565,
   "id": "cda0f6e7-7708-4819-a2d2-0d5dc49e9a03",
   "metadata": {},
   "outputs": [
    {
     "data": {
      "text/plain": [
       "array(['Courbe', 'Droit', nan], dtype=object)"
      ]
     },
     "execution_count": 565,
     "metadata": {},
     "output_type": "execute_result"
    }
   ],
   "source": [
    "report_all_df['CD_ASPCT_ROUTE'].unique()"
   ]
  },
  {
   "cell_type": "code",
   "execution_count": 566,
   "id": "bcf4100e-d5de-4703-b06c-bb31abaedb44",
   "metadata": {
    "scrolled": true
   },
   "outputs": [],
   "source": [
    "#Encoding: changing text data to numerical\n",
    "\n",
    "#HR_ACCDN\n",
    "mapping = {\n",
    "    '00:00:00-03:59:00': 1,\n",
    "    '04:00:00-07:59:00': 2,\n",
    "    '08:00:00-11:59:00': 3,\n",
    "    '12:00:00-15:59:00': 4,\n",
    "    '16:00:00-19:59:00': 5,\n",
    "    '20:00:00-23:59:00': 6\n",
    "}\n",
    "report_all_df['HR_ACCDN'] = report_all_df['HR_ACCDN'].map(mapping)\n",
    "\n",
    "\n",
    "#JR_SEMN_ACCDN\n",
    "mapping = {\n",
    "    'SEM': 1,\n",
    "    'FDS': 2\n",
    "}\n",
    "report_all_df['JR_SEMN_ACCDN'] = report_all_df['JR_SEMN_ACCDN'].map(mapping)\n",
    "\n",
    "\n",
    "#GRAVITE\n",
    "mapping = {\n",
    "    'Mortel ou grave': 1,\n",
    "    'Léger': 2,\n",
    "    'Dommages matériels seulement': 3,\n",
    "    'Dommages matériels inférieurs au seuil de rapportage': 4\n",
    "}\n",
    "report_all_df['GRAVITE'] = report_all_df['GRAVITE'].map(mapping)\n",
    "\n",
    "\n",
    "#REG_ADM\n",
    "mapping = {\n",
    "    'Bas-Saint-Laurent (01)': 1,\n",
    "    'Saguenay―Lac-Saint-Jean (02)': 2,\n",
    "    'Capitale-Nationale (03)': 3,\n",
    "    'Mauricie (04)': 4,\n",
    "    'Estrie (05)': 5,\n",
    "    'Montréal (06)': 6,\n",
    "    'Outaouais (07)': 7,\n",
    "    'Abitibi-Témiscamingue (08)': 8,\n",
    "    'Côte-Nord (09)': 9,\n",
    "    'Nord-du-Québec (10)': 10,\n",
    "    'Gaspésie―Îles-de-la-Madeleine (11)': 11,\n",
    "    'Chaudière-Appalaches (12)': 12,\n",
    "    'Laval (13)': 13,\n",
    "    'Lanaudière (14)': 14,\n",
    "    'Laurentides (15)': 15,\n",
    "    'Montérégie (16)': 16,\n",
    "    'Centre-du-Québec (17)': 17\n",
    "}\n",
    "report_all_df['REG_ADM'] = report_all_df['REG_ADM'].map(mapping)\n",
    "\n",
    "#VITESSE_AUTOR\n",
    "mapping = {\n",
    "    '<50': 40,\n",
    "    '50': 50,\n",
    "    ' 50': 50,\n",
    "    '60': 60,\n",
    "    ' 60': 60,\n",
    "    '70': 70,\n",
    "    ' 70': 70,\n",
    "    '80': 80,\n",
    "    ' 80': 80,\n",
    "    '90': 90,\n",
    "    ' 90': 90,\n",
    "    '100': 100\n",
    "}\n",
    "report_all_df['VITESSE_AUTOR'] = report_all_df['VITESSE_AUTOR'].map(mapping)\n",
    "\n",
    "\n",
    "\n",
    "#CD_GENRE_ACCDN\n",
    "mapping = {\n",
    "    'véhicule': 1,\n",
    "    'piéton': 2,\n",
    "    'cycliste': 3,\n",
    "    'animal': 4, \n",
    "    'objet fixe': 5,\n",
    "    'sans collision': 6,\n",
    "    'autre': 7,\n",
    "}\n",
    "report_all_df['CD_GENRE_ACCDN'] = report_all_df['CD_GENRE_ACCDN'].map(mapping)\n",
    "\n",
    "\n",
    "#CD_ASPCT_ROUTE\n",
    "mapping = {\n",
    "    'Droit': 1,\n",
    "    'Courbe': 2\n",
    "}\n",
    "report_all_df['CD_ASPCT_ROUTE'] = report_all_df['CD_ASPCT_ROUTE'].map(mapping)\n",
    "\n",
    "\n",
    "#CD_ZON_TRAVX_ROUTR\n",
    "mapping = {\n",
    "    'O': 1,\n",
    "    np.nan: 0\n",
    "}\n",
    "report_all_df['CD_ZON_TRAVX_ROUTR'] = report_all_df['CD_ZON_TRAVX_ROUTR'].map(mapping)\n",
    "\n",
    "#IND_AUTO_CAMION_LEGER, IND_VEH_LOURD, IND_MOTO_CYCLO, IND_VELO, IND_PIETON\n",
    "mapping = {\n",
    "    'N': 0,\n",
    "    'O': 1\n",
    "}\n",
    "columns_to_map = ['IND_AUTO_CAMION_LEGER', 'IND_VEH_LOURD', 'IND_MOTO_CYCLO', 'IND_VELO', 'IND_PIETON']\n",
    "for column in columns_to_map: \n",
    "    report_all_df[column] = report_all_df[column].map(mapping)"
   ]
  },
  {
   "cell_type": "code",
   "execution_count": 569,
   "id": "a46a0f69-c126-46a1-b682-28feb3d34e8e",
   "metadata": {},
   "outputs": [
    {
     "data": {
      "text/plain": [
       "NO_SEQ_COLL                    0\n",
       "MS_ACCDN                       0\n",
       "HR_ACCDN                   58418\n",
       "JR_SEMN_ACCDN                  1\n",
       "GRAVITE                        0\n",
       "NB_VICTIMES_TOTAL              0\n",
       "NB_VEH_IMPLIQUES_ACCDN         4\n",
       "REG_ADM                   108953\n",
       "VITESSE_AUTOR             392397\n",
       "CD_GENRE_ACCDN             31130\n",
       "CD_ETAT_SURFC              45891\n",
       "CD_ECLRM                   46931\n",
       "CD_ENVRN_ACCDN             29510\n",
       "CD_CATEG_ROUTE             23832\n",
       "CD_ASPCT_ROUTE             44696\n",
       "CD_LOCLN_ACCDN            119542\n",
       "CD_CONFG_ROUTE            149301\n",
       "CD_ZON_TRAVX_ROUTR             0\n",
       "CD_COND_METEO              47510\n",
       "IND_AUTO_CAMION_LEGER          0\n",
       "IND_VEH_LOURD                  0\n",
       "IND_MOTO_CYCLO                 0\n",
       "IND_VELO                       0\n",
       "IND_PIETON                     0\n",
       "dtype: int64"
      ]
     },
     "execution_count": 569,
     "metadata": {},
     "output_type": "execute_result"
    }
   ],
   "source": [
    "#Check how many null values for each column\n",
    "report_all_df.isnull().sum()"
   ]
  },
  {
   "cell_type": "code",
   "execution_count": 570,
   "id": "cbc70e00-64f7-4a1a-b9a9-3ad6ba542578",
   "metadata": {},
   "outputs": [],
   "source": [
    "report_all_df = report_all_df.dropna()"
   ]
  },
  {
   "cell_type": "code",
   "execution_count": 571,
   "id": "a86501eb-0d6c-4779-8c42-696a3fd4b250",
   "metadata": {},
   "outputs": [
    {
     "data": {
      "text/plain": [
       "NO_SEQ_COLL               0\n",
       "MS_ACCDN                  0\n",
       "HR_ACCDN                  0\n",
       "JR_SEMN_ACCDN             0\n",
       "GRAVITE                   0\n",
       "NB_VICTIMES_TOTAL         0\n",
       "NB_VEH_IMPLIQUES_ACCDN    0\n",
       "REG_ADM                   0\n",
       "VITESSE_AUTOR             0\n",
       "CD_GENRE_ACCDN            0\n",
       "CD_ETAT_SURFC             0\n",
       "CD_ECLRM                  0\n",
       "CD_ENVRN_ACCDN            0\n",
       "CD_CATEG_ROUTE            0\n",
       "CD_ASPCT_ROUTE            0\n",
       "CD_LOCLN_ACCDN            0\n",
       "CD_CONFG_ROUTE            0\n",
       "CD_ZON_TRAVX_ROUTR        0\n",
       "CD_COND_METEO             0\n",
       "IND_AUTO_CAMION_LEGER     0\n",
       "IND_VEH_LOURD             0\n",
       "IND_MOTO_CYCLO            0\n",
       "IND_VELO                  0\n",
       "IND_PIETON                0\n",
       "dtype: int64"
      ]
     },
     "execution_count": 571,
     "metadata": {},
     "output_type": "execute_result"
    }
   ],
   "source": [
    "#Check how many null values for each column\n",
    "report_all_df.isnull().sum()"
   ]
  },
  {
   "cell_type": "code",
   "execution_count": 572,
   "id": "ad64e8a1-290f-4d25-9208-7dfeb2be55a1",
   "metadata": {},
   "outputs": [
    {
     "name": "stdout",
     "output_type": "stream",
     "text": [
      "New number of rows: 1123338\n",
      "Number of rows lost after dropping nulls: 594069\n",
      "Ratio of rows lost after dropping nulls: 0.3459104335780627\n"
     ]
    }
   ],
   "source": [
    "print(f'New number of rows: {len(report_all_df)}')\n",
    "print(f'Number of rows lost after dropping nulls: {total_row_num - len(report_all_df)}')\n",
    "print(f'Ratio of rows lost after dropping nulls: {1 - (len(report_all_df) / total_row_num)}')"
   ]
  },
  {
   "cell_type": "code",
   "execution_count": 573,
   "id": "80de58db-96e1-44f7-bcd5-426797a30eab",
   "metadata": {},
   "outputs": [],
   "source": [
    "#Store accident ID's in a different DF, then drop IDs from main DF\n",
    "accident_id_df = report_all_df['NO_SEQ_COLL']\n",
    "report_all_df = report_all_df.drop('NO_SEQ_COLL', axis=1)"
   ]
  },
  {
   "cell_type": "code",
   "execution_count": 581,
   "id": "d9321335-90c1-4b51-95e9-7dcb171ea0bd",
   "metadata": {},
   "outputs": [],
   "source": [
    "#Convert all columns to the same data type\n",
    "for column in report_all_df.columns:\n",
    "    report_all_df[column] = report_all_df[column].astype(int)"
   ]
  },
  {
   "cell_type": "code",
   "execution_count": 584,
   "id": "cbd0114f-1497-42a1-a227-4ef06b17c19e",
   "metadata": {},
   "outputs": [
    {
     "data": {
      "text/plain": [
       "MS_ACCDN                  int32\n",
       "HR_ACCDN                  int32\n",
       "JR_SEMN_ACCDN             int32\n",
       "GRAVITE                   int32\n",
       "NB_VICTIMES_TOTAL         int32\n",
       "NB_VEH_IMPLIQUES_ACCDN    int32\n",
       "REG_ADM                   int32\n",
       "VITESSE_AUTOR             int32\n",
       "CD_GENRE_ACCDN            int32\n",
       "CD_ETAT_SURFC             int32\n",
       "CD_ECLRM                  int32\n",
       "CD_ENVRN_ACCDN            int32\n",
       "CD_CATEG_ROUTE            int32\n",
       "CD_ASPCT_ROUTE            int32\n",
       "CD_LOCLN_ACCDN            int32\n",
       "CD_CONFG_ROUTE            int32\n",
       "CD_ZON_TRAVX_ROUTR        int32\n",
       "CD_COND_METEO             int32\n",
       "IND_AUTO_CAMION_LEGER     int32\n",
       "IND_VEH_LOURD             int32\n",
       "IND_MOTO_CYCLO            int32\n",
       "IND_VELO                  int32\n",
       "IND_PIETON                int32\n",
       "dtype: object"
      ]
     },
     "execution_count": 584,
     "metadata": {},
     "output_type": "execute_result"
    }
   ],
   "source": [
    "report_all_df.dtypes"
   ]
  },
  {
   "cell_type": "code",
   "execution_count": 583,
   "id": "d4970e5b-2588-4a89-a543-fb6540ab2427",
   "metadata": {},
   "outputs": [
    {
     "data": {
      "image/png": "[encoded data removed]",
      "text/plain": [
       "<Figure size 640x480 with 1 Axes>"
      ]
     },
     "metadata": {},
     "output_type": "display_data"
    }
   ],
   "source": [
    "import matplotlib.pyplot as plt\n",
    "plt.hist(report_all_df['VITESSE_AUTOR'], bins=6, edgecolor='black')\n",
    "plt.xlabel('Value')\n",
    "plt.ylabel('Frequency')\n",
    "plt.title('Distribution of VITESSE_AUTOR')\n",
    "plt.show()"
   ]
  },
  {
   "cell_type": "code",
   "execution_count": 586,
   "id": "036a37aa-6e65-4fc3-9fc3-9690a7d19cf8",
   "metadata": {},
   "outputs": [
    {
     "data": {
      "image/png": "[encoded data removed]",
      "text/plain": [
       "<Figure size 640x480 with 1 Axes>"
      ]
     },
     "metadata": {},
     "output_type": "display_data"
    }
   ],
   "source": [
    "import matplotlib.pyplot as plt\n",
    "plt.hist(report_all_df['GRAVITE'], bins=4, edgecolor='black')\n",
    "plt.xlabel('Value')\n",
    "plt.ylabel('Frequency')\n",
    "plt.title('Distribution of GRAVITE')\n",
    "plt.show()"
   ]
  },
  {
   "cell_type": "code",
   "execution_count": null,
   "id": "2237b21d-f456-4b09-b99a-483d82fa7e45",
   "metadata": {},
   "outputs": [],
   "source": []
  }
 ],
 "metadata": {
  "kernelspec": {
   "display_name": "Python 3 (ipykernel)",
   "language": "python",
   "name": "python3"
  },
  "language_info": {
   "codemirror_mode": {
    "name": "ipython",
    "version": 3
   },
   "file_extension": ".py",
   "mimetype": "text/x-python",
   "name": "python",
   "nbconvert_exporter": "python",
   "pygments_lexer": "ipython3",
   "version": "3.10.8"
  }
 },
 "nbformat": 4,
 "nbformat_minor": 5
}
